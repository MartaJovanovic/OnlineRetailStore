{
 "cells": [
  {
   "cell_type": "markdown",
   "id": "9e038670",
   "metadata": {},
   "source": [
    "# Online Retail Store"
   ]
  },
  {
   "cell_type": "code",
   "execution_count": 1,
   "id": "a9561d4c",
   "metadata": {},
   "outputs": [],
   "source": [
    "import pandas as pd\n",
    "import numpy as np\n",
    "import matplotlib.pyplot as plt\n",
    "import seaborn as sns\n",
    "from datetime import datetime"
   ]
  },
  {
   "cell_type": "markdown",
   "id": "3aa60c7f",
   "metadata": {},
   "source": [
    "# Dataset\n",
    "\n",
    "The dataset  contains transactional data of an online retail store from 2010 to 2011.\n",
    "\n",
    "The dataset contains the following columns:\n",
    "\n",
    "- InvoiceNo: Invoice number of the transaction\n",
    "- StockCode: Unique code of the product\n",
    "- Description: Description of the product\n",
    "- Quantity: Quantity of the product in the transaction\n",
    "- InvoiceDate: Date and time of the transaction\n",
    "- UnitPrice: Unit price of the product\n",
    "- CustomerID: Unique identifier of the customer\n",
    "- Country: Country where the transaction occurred"
   ]
  },
  {
   "cell_type": "code",
   "execution_count": 2,
   "id": "9a6a3c0f",
   "metadata": {},
   "outputs": [],
   "source": [
    "data = pd.read_excel(r\"C:\\Users\\stefa\\Downloads\\online_retail\\Online Retail.xlsx\")"
   ]
  },
  {
   "cell_type": "code",
   "execution_count": 3,
   "id": "626dc683",
   "metadata": {},
   "outputs": [
    {
     "data": {
      "text/html": [
       "<div>\n",
       "<style scoped>\n",
       "    .dataframe tbody tr th:only-of-type {\n",
       "        vertical-align: middle;\n",
       "    }\n",
       "\n",
       "    .dataframe tbody tr th {\n",
       "        vertical-align: top;\n",
       "    }\n",
       "\n",
       "    .dataframe thead th {\n",
       "        text-align: right;\n",
       "    }\n",
       "</style>\n",
       "<table border=\"1\" class=\"dataframe\">\n",
       "  <thead>\n",
       "    <tr style=\"text-align: right;\">\n",
       "      <th></th>\n",
       "      <th>InvoiceNo</th>\n",
       "      <th>StockCode</th>\n",
       "      <th>Description</th>\n",
       "      <th>Quantity</th>\n",
       "      <th>InvoiceDate</th>\n",
       "      <th>UnitPrice</th>\n",
       "      <th>CustomerID</th>\n",
       "      <th>Country</th>\n",
       "    </tr>\n",
       "  </thead>\n",
       "  <tbody>\n",
       "    <tr>\n",
       "      <th>0</th>\n",
       "      <td>536365</td>\n",
       "      <td>85123A</td>\n",
       "      <td>WHITE HANGING HEART T-LIGHT HOLDER</td>\n",
       "      <td>6</td>\n",
       "      <td>2010-12-01 08:26:00</td>\n",
       "      <td>2.55</td>\n",
       "      <td>17850.0</td>\n",
       "      <td>United Kingdom</td>\n",
       "    </tr>\n",
       "    <tr>\n",
       "      <th>1</th>\n",
       "      <td>536365</td>\n",
       "      <td>71053</td>\n",
       "      <td>WHITE METAL LANTERN</td>\n",
       "      <td>6</td>\n",
       "      <td>2010-12-01 08:26:00</td>\n",
       "      <td>3.39</td>\n",
       "      <td>17850.0</td>\n",
       "      <td>United Kingdom</td>\n",
       "    </tr>\n",
       "    <tr>\n",
       "      <th>2</th>\n",
       "      <td>536365</td>\n",
       "      <td>84406B</td>\n",
       "      <td>CREAM CUPID HEARTS COAT HANGER</td>\n",
       "      <td>8</td>\n",
       "      <td>2010-12-01 08:26:00</td>\n",
       "      <td>2.75</td>\n",
       "      <td>17850.0</td>\n",
       "      <td>United Kingdom</td>\n",
       "    </tr>\n",
       "    <tr>\n",
       "      <th>3</th>\n",
       "      <td>536365</td>\n",
       "      <td>84029G</td>\n",
       "      <td>KNITTED UNION FLAG HOT WATER BOTTLE</td>\n",
       "      <td>6</td>\n",
       "      <td>2010-12-01 08:26:00</td>\n",
       "      <td>3.39</td>\n",
       "      <td>17850.0</td>\n",
       "      <td>United Kingdom</td>\n",
       "    </tr>\n",
       "    <tr>\n",
       "      <th>4</th>\n",
       "      <td>536365</td>\n",
       "      <td>84029E</td>\n",
       "      <td>RED WOOLLY HOTTIE WHITE HEART.</td>\n",
       "      <td>6</td>\n",
       "      <td>2010-12-01 08:26:00</td>\n",
       "      <td>3.39</td>\n",
       "      <td>17850.0</td>\n",
       "      <td>United Kingdom</td>\n",
       "    </tr>\n",
       "  </tbody>\n",
       "</table>\n",
       "</div>"
      ],
      "text/plain": [
       "  InvoiceNo StockCode                          Description  Quantity  \\\n",
       "0    536365    85123A   WHITE HANGING HEART T-LIGHT HOLDER         6   \n",
       "1    536365     71053                  WHITE METAL LANTERN         6   \n",
       "2    536365    84406B       CREAM CUPID HEARTS COAT HANGER         8   \n",
       "3    536365    84029G  KNITTED UNION FLAG HOT WATER BOTTLE         6   \n",
       "4    536365    84029E       RED WOOLLY HOTTIE WHITE HEART.         6   \n",
       "\n",
       "          InvoiceDate  UnitPrice  CustomerID         Country  \n",
       "0 2010-12-01 08:26:00       2.55     17850.0  United Kingdom  \n",
       "1 2010-12-01 08:26:00       3.39     17850.0  United Kingdom  \n",
       "2 2010-12-01 08:26:00       2.75     17850.0  United Kingdom  \n",
       "3 2010-12-01 08:26:00       3.39     17850.0  United Kingdom  \n",
       "4 2010-12-01 08:26:00       3.39     17850.0  United Kingdom  "
      ]
     },
     "execution_count": 3,
     "metadata": {},
     "output_type": "execute_result"
    }
   ],
   "source": [
    "data.head(5)"
   ]
  },
  {
   "cell_type": "code",
   "execution_count": 4,
   "id": "133c6bf1",
   "metadata": {},
   "outputs": [
    {
     "name": "stdout",
     "output_type": "stream",
     "text": [
      "<class 'pandas.core.frame.DataFrame'>\n",
      "RangeIndex: 541909 entries, 0 to 541908\n",
      "Data columns (total 8 columns):\n",
      " #   Column       Non-Null Count   Dtype         \n",
      "---  ------       --------------   -----         \n",
      " 0   InvoiceNo    541909 non-null  object        \n",
      " 1   StockCode    541909 non-null  object        \n",
      " 2   Description  540455 non-null  object        \n",
      " 3   Quantity     541909 non-null  int64         \n",
      " 4   InvoiceDate  541909 non-null  datetime64[ns]\n",
      " 5   UnitPrice    541909 non-null  float64       \n",
      " 6   CustomerID   406829 non-null  float64       \n",
      " 7   Country      541909 non-null  object        \n",
      "dtypes: datetime64[ns](1), float64(2), int64(1), object(4)\n",
      "memory usage: 33.1+ MB\n"
     ]
    }
   ],
   "source": [
    "data.info()"
   ]
  },
  {
   "cell_type": "markdown",
   "id": "da8f8abe",
   "metadata": {},
   "source": [
    "# Cleaning the data\n",
    "\n",
    " - Removing duplicate and incomplete cases\n",
    " - Ensuring answers are formatted correctly\n",
    " - Removing negative values from non-negative variables\n",
    " - Deleting columns not needed in the analysis\n",
    " - Making new columns\n"
   ]
  },
  {
   "cell_type": "code",
   "execution_count": 5,
   "id": "fac0292f",
   "metadata": {},
   "outputs": [],
   "source": [
    "# removing duplicated values\n",
    "data = data.drop_duplicates()"
   ]
  },
  {
   "cell_type": "code",
   "execution_count": 6,
   "id": "36819158",
   "metadata": {},
   "outputs": [
    {
     "data": {
      "text/html": [
       "<div>\n",
       "<style scoped>\n",
       "    .dataframe tbody tr th:only-of-type {\n",
       "        vertical-align: middle;\n",
       "    }\n",
       "\n",
       "    .dataframe tbody tr th {\n",
       "        vertical-align: top;\n",
       "    }\n",
       "\n",
       "    .dataframe thead th {\n",
       "        text-align: right;\n",
       "    }\n",
       "</style>\n",
       "<table border=\"1\" class=\"dataframe\">\n",
       "  <thead>\n",
       "    <tr style=\"text-align: right;\">\n",
       "      <th></th>\n",
       "      <th>Quantity</th>\n",
       "      <th>UnitPrice</th>\n",
       "      <th>CustomerID</th>\n",
       "    </tr>\n",
       "  </thead>\n",
       "  <tbody>\n",
       "    <tr>\n",
       "      <th>count</th>\n",
       "      <td>536641.000000</td>\n",
       "      <td>536641.000000</td>\n",
       "      <td>401604.000000</td>\n",
       "    </tr>\n",
       "    <tr>\n",
       "      <th>mean</th>\n",
       "      <td>9.620029</td>\n",
       "      <td>4.632656</td>\n",
       "      <td>15281.160818</td>\n",
       "    </tr>\n",
       "    <tr>\n",
       "      <th>std</th>\n",
       "      <td>219.130156</td>\n",
       "      <td>97.233118</td>\n",
       "      <td>1714.006089</td>\n",
       "    </tr>\n",
       "    <tr>\n",
       "      <th>min</th>\n",
       "      <td>-80995.000000</td>\n",
       "      <td>-11062.060000</td>\n",
       "      <td>12346.000000</td>\n",
       "    </tr>\n",
       "    <tr>\n",
       "      <th>25%</th>\n",
       "      <td>1.000000</td>\n",
       "      <td>1.250000</td>\n",
       "      <td>13939.000000</td>\n",
       "    </tr>\n",
       "    <tr>\n",
       "      <th>50%</th>\n",
       "      <td>3.000000</td>\n",
       "      <td>2.080000</td>\n",
       "      <td>15145.000000</td>\n",
       "    </tr>\n",
       "    <tr>\n",
       "      <th>75%</th>\n",
       "      <td>10.000000</td>\n",
       "      <td>4.130000</td>\n",
       "      <td>16784.000000</td>\n",
       "    </tr>\n",
       "    <tr>\n",
       "      <th>max</th>\n",
       "      <td>80995.000000</td>\n",
       "      <td>38970.000000</td>\n",
       "      <td>18287.000000</td>\n",
       "    </tr>\n",
       "  </tbody>\n",
       "</table>\n",
       "</div>"
      ],
      "text/plain": [
       "            Quantity      UnitPrice     CustomerID\n",
       "count  536641.000000  536641.000000  401604.000000\n",
       "mean        9.620029       4.632656   15281.160818\n",
       "std       219.130156      97.233118    1714.006089\n",
       "min    -80995.000000  -11062.060000   12346.000000\n",
       "25%         1.000000       1.250000   13939.000000\n",
       "50%         3.000000       2.080000   15145.000000\n",
       "75%        10.000000       4.130000   16784.000000\n",
       "max     80995.000000   38970.000000   18287.000000"
      ]
     },
     "execution_count": 6,
     "metadata": {},
     "output_type": "execute_result"
    }
   ],
   "source": [
    "data.describe()"
   ]
  },
  {
   "cell_type": "code",
   "execution_count": 7,
   "id": "397094e3",
   "metadata": {},
   "outputs": [],
   "source": [
    "data = data[(data['Quantity'] >= 1) & (data['UnitPrice'] > 0)]"
   ]
  },
  {
   "cell_type": "code",
   "execution_count": 8,
   "id": "d39b8e97",
   "metadata": {},
   "outputs": [
    {
     "data": {
      "text/plain": [
       "InvoiceNo           0\n",
       "StockCode           0\n",
       "Description         0\n",
       "Quantity            0\n",
       "InvoiceDate         0\n",
       "UnitPrice           0\n",
       "CustomerID     132186\n",
       "Country             0\n",
       "dtype: int64"
      ]
     },
     "execution_count": 8,
     "metadata": {},
     "output_type": "execute_result"
    }
   ],
   "source": [
    "data.isna().sum()"
   ]
  },
  {
   "cell_type": "code",
   "execution_count": 9,
   "id": "3c206d93",
   "metadata": {},
   "outputs": [
    {
     "data": {
      "text/plain": [
       "InvoiceNo      19960\n",
       "StockCode       3922\n",
       "Description     4026\n",
       "Quantity         375\n",
       "InvoiceDate    18499\n",
       "UnitPrice       1291\n",
       "CustomerID      4338\n",
       "Country           38\n",
       "dtype: int64"
      ]
     },
     "execution_count": 9,
     "metadata": {},
     "output_type": "execute_result"
    }
   ],
   "source": [
    "data.nunique()"
   ]
  },
  {
   "cell_type": "code",
   "execution_count": 10,
   "id": "48fb0c25",
   "metadata": {},
   "outputs": [],
   "source": [
    "data = data.drop(columns = ['Description'])"
   ]
  },
  {
   "cell_type": "code",
   "execution_count": 11,
   "id": "e7a2b45f",
   "metadata": {},
   "outputs": [
    {
     "data": {
      "text/html": [
       "<div>\n",
       "<style scoped>\n",
       "    .dataframe tbody tr th:only-of-type {\n",
       "        vertical-align: middle;\n",
       "    }\n",
       "\n",
       "    .dataframe tbody tr th {\n",
       "        vertical-align: top;\n",
       "    }\n",
       "\n",
       "    .dataframe thead th {\n",
       "        text-align: right;\n",
       "    }\n",
       "</style>\n",
       "<table border=\"1\" class=\"dataframe\">\n",
       "  <thead>\n",
       "    <tr style=\"text-align: right;\">\n",
       "      <th></th>\n",
       "      <th>InvoiceNo</th>\n",
       "      <th>StockCode</th>\n",
       "      <th>Quantity</th>\n",
       "      <th>InvoiceDate</th>\n",
       "      <th>UnitPrice</th>\n",
       "      <th>CustomerID</th>\n",
       "      <th>Country</th>\n",
       "      <th>Date</th>\n",
       "      <th>Hour</th>\n",
       "    </tr>\n",
       "  </thead>\n",
       "  <tbody>\n",
       "    <tr>\n",
       "      <th>0</th>\n",
       "      <td>536365</td>\n",
       "      <td>85123A</td>\n",
       "      <td>6</td>\n",
       "      <td>2010-12-01 08:26:00</td>\n",
       "      <td>2.55</td>\n",
       "      <td>17850.0</td>\n",
       "      <td>United Kingdom</td>\n",
       "      <td>2010-12-01</td>\n",
       "      <td>8</td>\n",
       "    </tr>\n",
       "    <tr>\n",
       "      <th>1</th>\n",
       "      <td>536365</td>\n",
       "      <td>71053</td>\n",
       "      <td>6</td>\n",
       "      <td>2010-12-01 08:26:00</td>\n",
       "      <td>3.39</td>\n",
       "      <td>17850.0</td>\n",
       "      <td>United Kingdom</td>\n",
       "      <td>2010-12-01</td>\n",
       "      <td>8</td>\n",
       "    </tr>\n",
       "    <tr>\n",
       "      <th>2</th>\n",
       "      <td>536365</td>\n",
       "      <td>84406B</td>\n",
       "      <td>8</td>\n",
       "      <td>2010-12-01 08:26:00</td>\n",
       "      <td>2.75</td>\n",
       "      <td>17850.0</td>\n",
       "      <td>United Kingdom</td>\n",
       "      <td>2010-12-01</td>\n",
       "      <td>8</td>\n",
       "    </tr>\n",
       "  </tbody>\n",
       "</table>\n",
       "</div>"
      ],
      "text/plain": [
       "  InvoiceNo StockCode  Quantity         InvoiceDate  UnitPrice  CustomerID  \\\n",
       "0    536365    85123A         6 2010-12-01 08:26:00       2.55     17850.0   \n",
       "1    536365     71053         6 2010-12-01 08:26:00       3.39     17850.0   \n",
       "2    536365    84406B         8 2010-12-01 08:26:00       2.75     17850.0   \n",
       "\n",
       "          Country        Date  Hour  \n",
       "0  United Kingdom  2010-12-01     8  \n",
       "1  United Kingdom  2010-12-01     8  \n",
       "2  United Kingdom  2010-12-01     8  "
      ]
     },
     "execution_count": 11,
     "metadata": {},
     "output_type": "execute_result"
    }
   ],
   "source": [
    "# making two new columns, the first containing a date without time and a column containing hours\n",
    "data['Date'] = data['InvoiceDate'].dt.date\n",
    "data['Hour'] = data['InvoiceDate'].dt.hour\n",
    "data.head(3)"
   ]
  },
  {
   "cell_type": "code",
   "execution_count": 12,
   "id": "a9b11118",
   "metadata": {},
   "outputs": [],
   "source": [
    "# deleting the unnecessary column\n",
    "data = data.drop(columns = ['InvoiceDate'])"
   ]
  },
  {
   "cell_type": "code",
   "execution_count": 13,
   "id": "f110a177",
   "metadata": {
    "scrolled": false
   },
   "outputs": [],
   "source": [
    "# adding a Revenue column\n",
    "data['Revenue'] = data['UnitPrice'] * data['Quantity']"
   ]
  },
  {
   "cell_type": "code",
   "execution_count": 14,
   "id": "86c52910",
   "metadata": {},
   "outputs": [],
   "source": [
    "# converting Date to datetime\n",
    "\n",
    "data['Date'] = pd.to_datetime(data['Date'])"
   ]
  },
  {
   "cell_type": "code",
   "execution_count": 15,
   "id": "87bb57f6",
   "metadata": {},
   "outputs": [],
   "source": [
    "# a new dataset that doesn't contain NAN values for customers to use later for the top 10 customers\n",
    "data1 = data.dropna(axis=0, how='any').copy(deep=False)\n",
    "data1['CustomerID'] = data1['CustomerID'].apply(lambda x: '{:.0f}'.format(x))\n",
    "# formating CustomerID\n",
    "data['CustomerID'] = data['CustomerID'].apply(lambda x: '{:.0f}'.format(x))"
   ]
  },
  {
   "cell_type": "markdown",
   "id": "e3feb06b",
   "metadata": {},
   "source": [
    "# Goals\n",
    "\n",
    "We are going to see:\n",
    "- the busiest months and hours\n",
    "- top 10 costumers who spend the most \n",
    "- top 5 products which make the most revenue\n",
    "- the country that contributes the most to profits"
   ]
  },
  {
   "cell_type": "markdown",
   "id": "3d43a1e5",
   "metadata": {},
   "source": [
    "# Analysis\n",
    "\n",
    "## Month\n",
    "While the average revenue by month shows consistency throughout the year, it is noteworthy that the highest revenue and invoice counts are concentrated in the last quarter (September, October, November, and December). This observation suggests that the holiday season significantly impacts our sales performance, highlighting the importance of strategic planning and marketing during this period.\n",
    "\n",
    "## Hour\n",
    "The analysis of hourly activity patterns reveals that the busiest hours are between 10 a.m. and 3 p.m. During this time frame, there is a higher volume of transactions, indicating increased customer engagement. The hour with the most invoices is 12 p.m., suggesting that this is a critical time for processing orders efficiently. Interestingly, the average revenue at 7 a.m. stands out significantly, exceeding more than twice the average of other hours. This anomaly deserves further investigation to understand what drives this early morning surge in revenue and whether it can be leveraged for sustained growth.\n",
    "\n",
    "## Top custumers\n",
    "The IDs of the top 10 customers who consistently spend the most are 14646, 18102, 17450, 16446, 14911, 12415, 14156, 17511, 16029, and 12346. This valuable insight allows us to tailor our customer engagement strategies and provide personalized incentives to retain these high-value clients.\n",
    "\n",
    "## Top products\n",
    "\n",
    "The analysis reveals that the stock codes for the top 5 products that contribute the most to revenue are: DOT, 22423, 23843, 85123A, and 47566. Recognizing these products enables us to optimize marketing, pricing, and inventory management strategies, potentially increasing overall profitability.\n",
    "\n",
    "## Country\n",
    "A significant insight is that the United Kingdom contributes a substantial portion of the revenue, accounting for an impressive 85% of all sales. The country behind the UK is the Netherlands with a contribution to the revenue of 2.6%. The concentration in the UK highlights the importance of maintaining a strong presence and tailored strategies in this key market.\n"
   ]
  },
  {
   "cell_type": "code",
   "execution_count": 16,
   "id": "3c3e66fc",
   "metadata": {},
   "outputs": [],
   "source": [
    "# grouping the data by month\n",
    "data_m = data.groupby(data['Date'].dt.month)"
   ]
  },
  {
   "cell_type": "code",
   "execution_count": 17,
   "id": "f405ce21",
   "metadata": {
    "scrolled": false
   },
   "outputs": [
    {
     "data": {
      "image/png": "[encoded data removed]",
      "text/plain": [
       "<Figure size 1500x500 with 3 Axes>"
      ]
     },
     "metadata": {},
     "output_type": "display_data"
    }
   ],
   "source": [
    "fig, axes = plt.subplots(1, 3, figsize=(15, 5))\n",
    "\n",
    "axes[0].bar(data_m['Revenue'].sum().index, data_m['Revenue'].sum().values)\n",
    "axes[0].set_title('Sum of Revenue by Month')\n",
    "axes[0].set_xlabel('Month')\n",
    "axes[0].set_ylabel('Sum Revenue')\n",
    "\n",
    "axes[1].bar(data_m['Revenue'].mean().index, data_m['Revenue'].mean().values)\n",
    "axes[1].set_title('Average Revenue by Month')\n",
    "axes[1].set_xlabel('Month')\n",
    "axes[1].set_ylabel('Average Revenue')\n",
    "\n",
    "axes[2].bar(data_m['InvoiceNo'].nunique().index, data_m['InvoiceNo'].nunique().values)\n",
    "axes[2].set_title('Count of Invoices by Month')\n",
    "axes[2].set_xlabel('Month')\n",
    "axes[2].set_ylabel('Count of Invoices')\n",
    "\n",
    "plt.tight_layout()\n",
    "plt.show()"
   ]
  },
  {
   "cell_type": "code",
   "execution_count": 18,
   "id": "5c09e501",
   "metadata": {},
   "outputs": [],
   "source": [
    "# grouping the data by month \n",
    "data_h =data.groupby(data['Hour'])"
   ]
  },
  {
   "cell_type": "code",
   "execution_count": 19,
   "id": "43e36747",
   "metadata": {},
   "outputs": [
    {
     "data": {
      "image/png": "[encoded data removed]",
      "text/plain": [
       "<Figure size 1500x500 with 3 Axes>"
      ]
     },
     "metadata": {},
     "output_type": "display_data"
    }
   ],
   "source": [
    "fig, axes = plt.subplots(1, 3, figsize=(15, 5))\n",
    "\n",
    "axes[0].bar(data_h['Revenue'].sum().index, data_h['Revenue'].sum().values)\n",
    "axes[0].set_title('Sum of Revenue by Hour')\n",
    "axes[0].set_xlabel('Hour')\n",
    "axes[0].set_ylabel('Sum Revenue')\n",
    "\n",
    "axes[1].bar(data_h['Revenue'].mean().index, data_h['Revenue'].mean().values)\n",
    "axes[1].set_title('Average Revenue by Hour')\n",
    "axes[1].set_xlabel('Hour')\n",
    "axes[1].set_ylabel('Average Revenue')\n",
    "\n",
    "axes[2].bar(data_h['InvoiceNo'].nunique().index, data_h['InvoiceNo'].nunique().values)\n",
    "axes[2].set_title('Count of Invoices by Hour')\n",
    "axes[2].set_xlabel('Hour')\n",
    "axes[2].set_ylabel('Count of Invoices')\n",
    "\n",
    "plt.tight_layout()\n",
    "plt.show()"
   ]
  },
  {
   "cell_type": "code",
   "execution_count": 20,
   "id": "3d100c00",
   "metadata": {},
   "outputs": [
    {
     "data": {
      "text/plain": [
       "CustomerID\n",
       "14646    280206.02\n",
       "18102    259657.30\n",
       "17450    194390.79\n",
       "16446    168472.50\n",
       "14911    143711.17\n",
       "12415    124914.53\n",
       "14156    117210.08\n",
       "17511     91062.38\n",
       "16029     80850.84\n",
       "12346     77183.60\n",
       "Name: Revenue, dtype: float64"
      ]
     },
     "execution_count": 20,
     "metadata": {},
     "output_type": "execute_result"
    }
   ],
   "source": [
    "# calculating top 10 custumers by Revenue\n",
    "top_10_custumers = data1.groupby('CustomerID')['Revenue'].sum().sort_values(ascending = False).head(10)\n",
    "top_10_custumers"
   ]
  },
  {
   "cell_type": "code",
   "execution_count": 21,
   "id": "6d897cdf",
   "metadata": {},
   "outputs": [
    {
     "data": {
      "text/plain": [
       "StockCode\n",
       "DOT       206248.77\n",
       "22423     174156.54\n",
       "23843     168469.60\n",
       "85123A    104462.75\n",
       "47566      99445.23\n",
       "Name: Revenue, dtype: float64"
      ]
     },
     "execution_count": 21,
     "metadata": {},
     "output_type": "execute_result"
    }
   ],
   "source": [
    "# calculating top 5 products\n",
    "top_5_products = data.groupby('StockCode')['Revenue'].sum().sort_values(ascending = False).head(5)\n",
    "top_5_products"
   ]
  },
  {
   "cell_type": "code",
   "execution_count": 22,
   "id": "9739f684",
   "metadata": {},
   "outputs": [
    {
     "data": {
      "text/plain": [
       "Country\n",
       "France             209625.370\n",
       "Germany            228678.400\n",
       "EIRE               283140.520\n",
       "Netherlands        285446.340\n",
       "United Kingdom    9001744.094\n",
       "Name: Revenue, dtype: float64"
      ]
     },
     "execution_count": 22,
     "metadata": {},
     "output_type": "execute_result"
    }
   ],
   "source": [
    "# grouping data by country to see which countries contribute the most revenue\n",
    "data_country = data.groupby('Country')['Revenue'].sum().sort_values()\n",
    "data_country.tail(5)"
   ]
  },
  {
   "cell_type": "code",
   "execution_count": 23,
   "id": "475a9894",
   "metadata": {},
   "outputs": [
    {
     "data": {
      "text/html": [
       "<div>\n",
       "<style scoped>\n",
       "    .dataframe tbody tr th:only-of-type {\n",
       "        vertical-align: middle;\n",
       "    }\n",
       "\n",
       "    .dataframe tbody tr th {\n",
       "        vertical-align: top;\n",
       "    }\n",
       "\n",
       "    .dataframe thead th {\n",
       "        text-align: right;\n",
       "    }\n",
       "</style>\n",
       "<table border=\"1\" class=\"dataframe\">\n",
       "  <thead>\n",
       "    <tr style=\"text-align: right;\">\n",
       "      <th></th>\n",
       "      <th>InvoiceNo</th>\n",
       "      <th>StockCode</th>\n",
       "      <th>Quantity</th>\n",
       "      <th>UnitPrice</th>\n",
       "      <th>CustomerID</th>\n",
       "      <th>Country</th>\n",
       "      <th>Date</th>\n",
       "      <th>Hour</th>\n",
       "      <th>Revenue</th>\n",
       "      <th>C</th>\n",
       "    </tr>\n",
       "  </thead>\n",
       "  <tbody>\n",
       "    <tr>\n",
       "      <th>0</th>\n",
       "      <td>536365</td>\n",
       "      <td>85123A</td>\n",
       "      <td>6</td>\n",
       "      <td>2.55</td>\n",
       "      <td>17850</td>\n",
       "      <td>United Kingdom</td>\n",
       "      <td>2010-12-01</td>\n",
       "      <td>8</td>\n",
       "      <td>15.30</td>\n",
       "      <td>UK</td>\n",
       "    </tr>\n",
       "    <tr>\n",
       "      <th>1</th>\n",
       "      <td>536365</td>\n",
       "      <td>71053</td>\n",
       "      <td>6</td>\n",
       "      <td>3.39</td>\n",
       "      <td>17850</td>\n",
       "      <td>United Kingdom</td>\n",
       "      <td>2010-12-01</td>\n",
       "      <td>8</td>\n",
       "      <td>20.34</td>\n",
       "      <td>UK</td>\n",
       "    </tr>\n",
       "    <tr>\n",
       "      <th>2</th>\n",
       "      <td>536365</td>\n",
       "      <td>84406B</td>\n",
       "      <td>8</td>\n",
       "      <td>2.75</td>\n",
       "      <td>17850</td>\n",
       "      <td>United Kingdom</td>\n",
       "      <td>2010-12-01</td>\n",
       "      <td>8</td>\n",
       "      <td>22.00</td>\n",
       "      <td>UK</td>\n",
       "    </tr>\n",
       "  </tbody>\n",
       "</table>\n",
       "</div>"
      ],
      "text/plain": [
       "  InvoiceNo StockCode  Quantity  UnitPrice CustomerID         Country  \\\n",
       "0    536365    85123A         6       2.55      17850  United Kingdom   \n",
       "1    536365     71053         6       3.39      17850  United Kingdom   \n",
       "2    536365    84406B         8       2.75      17850  United Kingdom   \n",
       "\n",
       "        Date  Hour  Revenue   C  \n",
       "0 2010-12-01     8    15.30  UK  \n",
       "1 2010-12-01     8    20.34  UK  \n",
       "2 2010-12-01     8    22.00  UK  "
      ]
     },
     "execution_count": 23,
     "metadata": {},
     "output_type": "execute_result"
    }
   ],
   "source": [
    "data['C'] = data['Country'].apply(lambda x: 'UK' if x == 'United Kingdom' else 'Other')\n",
    "data.head(3)"
   ]
  },
  {
   "cell_type": "code",
   "execution_count": 24,
   "id": "f2cd1063",
   "metadata": {},
   "outputs": [
    {
     "data": {
      "image/png": "[encoded data removed]",
      "text/plain": [
       "<Figure size 640x480 with 1 Axes>"
      ]
     },
     "metadata": {},
     "output_type": "display_data"
    }
   ],
   "source": [
    "# pie chart to see the ratio between the UK and the other countries\n",
    "data_c = data.groupby('C')['Revenue'].sum()\n",
    "plt.pie(data_c, labels = data_c.index)\n",
    "plt.show() "
   ]
  }
 ],
 "metadata": {
  "kernelspec": {
   "display_name": "Python 3 (ipykernel)",
   "language": "python",
   "name": "python3"
  },
  "language_info": {
   "codemirror_mode": {
    "name": "ipython",
    "version": 3
   },
   "file_extension": ".py",
   "mimetype": "text/x-python",
   "name": "python",
   "nbconvert_exporter": "python",
   "pygments_lexer": "ipython3",
   "version": "3.11.4"
  }
 },
 "nbformat": 4,
 "nbformat_minor": 5
}
